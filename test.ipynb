{
 "cells": [
  {
   "cell_type": "code",
   "execution_count": 1,
   "metadata": {},
   "outputs": [
    {
     "name": "stderr",
     "output_type": "stream",
     "text": [
      "/usr/local/lib/python3.5/dist-packages/h5py/__init__.py:34: FutureWarning: Conversion of the second argument of issubdtype from `float` to `np.floating` is deprecated. In future, it will be treated as `np.float64 == np.dtype(float).type`.\n",
      "  from ._conv import register_converters as _register_converters\n"
     ]
    },
    {
     "name": "stdout",
     "output_type": "stream",
     "text": [
      "WARNING:tensorflow:From /usr/local/lib/python3.5/dist-packages/tensorflow/contrib/learn/python/learn/datasets/base.py:198: retry (from tensorflow.contrib.learn.python.learn.datasets.base) is deprecated and will be removed in a future version.\n",
      "Instructions for updating:\n",
      "Use the retry module or similar alternatives.\n",
      "INFO:tensorflow:Scale of 0 disables regularizer.\n",
      "INFO:tensorflow:Restoring parameters from logs/checkpoint-18000\n"
     ]
    }
   ],
   "source": [
    "import tensorflow as tf\n",
    "import numpy as np\n",
    "import cv2\n",
    "import nets.mobilenet_v1_1_224 as model\n",
    "import heads.fc as head\n",
    "\n",
    "import matplotlib.pyplot as plt\n",
    "import matplotlib.image as mpimg\n",
    "from sklearn.preprocessing import normalize\n",
    "%matplotlib inline\n",
    "\n",
    "# Tensorflow human re-ID feature descriptor model\n",
    "tf.Graph().as_default()\n",
    "sess = tf.Session()\n",
    "images = tf.zeros([1, 224, 224, 3], dtype=tf.float32)\n",
    "endpoints, body_prefix = model.endpoints(images, is_training=False)\n",
    "with tf.name_scope('head'):\n",
    "    endpoints = head.head(endpoints, is_training=False)\n",
    "tf.train.Saver().restore(sess, 'logs/checkpoint-18000')"
   ]
  },
  {
   "cell_type": "code",
   "execution_count": 2,
   "metadata": {},
   "outputs": [],
   "source": [
    "def human_vector(img):\n",
    "    resize_img = cv2.resize(img, (224,224))\n",
    "    #resize_img = (resize_img - 127.5) / 128\n",
    "    resize_img = np.expand_dims(resize_img, axis=0)\n",
    "    ages = sess.run(endpoints['age'], feed_dict={images: resize_img})\n",
    "    return ages"
   ]
  },
  {
   "cell_type": "code",
   "execution_count": 4,
   "metadata": {},
   "outputs": [
    {
     "name": "stdout",
     "output_type": "stream",
     "text": [
      "[[ 21.369154  -6.937695 -11.58964   -5.893017 -14.252423 -19.25236\n",
      "  -17.844343 -23.076542 -15.812471]]\n"
     ]
    }
   ],
   "source": [
    "img11_1 = cv2.imread('test_images/1.jpg')[:,:,::-1]\n",
    "\n",
    "a = human_vector(img11_1)\n",
    "\n",
    "print(a)"
   ]
  },
  {
   "cell_type": "code",
   "execution_count": null,
   "metadata": {},
   "outputs": [],
   "source": []
  }
 ],
 "metadata": {
  "kernelspec": {
   "display_name": "Python 3",
   "language": "python",
   "name": "python3"
  },
  "language_info": {
   "codemirror_mode": {
    "name": "ipython",
    "version": 3
   },
   "file_extension": ".py",
   "mimetype": "text/x-python",
   "name": "python",
   "nbconvert_exporter": "python",
   "pygments_lexer": "ipython3",
   "version": "3.5.2"
  }
 },
 "nbformat": 4,
 "nbformat_minor": 2
}
